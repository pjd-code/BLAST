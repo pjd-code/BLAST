{
  "nbformat": 4,
  "nbformat_minor": 0,
  "metadata": {
    "colab": {
      "name": "BLAST.ipynb",
      "provenance": [],
      "collapsed_sections": [],
      "authorship_tag": "ABX9TyOcPFasfPJrN2FyP8uLs4ea",
      "include_colab_link": true
    },
    "kernelspec": {
      "name": "python3",
      "display_name": "Python 3"
    },
    "language_info": {
      "name": "python"
    }
  },
  "cells": [
    {
      "cell_type": "markdown",
      "metadata": {
        "id": "view-in-github",
        "colab_type": "text"
      },
      "source": [
        "<a href=\"https://colab.research.google.com/github/pjd-code/BLAST/blob/main/BLAST.ipynb\" target=\"_parent\"><img src=\"https://colab.research.google.com/assets/colab-badge.svg\" alt=\"Open In Colab\"/></a>"
      ]
    },
    {
      "cell_type": "markdown",
      "metadata": {
        "id": "GS-NMJVm_VEv"
      },
      "source": [
        "# **B**asic **L**ocal **A**lignment **S**earch **T**ool"
      ]
    },
    {
      "cell_type": "markdown",
      "metadata": {
        "id": "ocqJEMZf_aN5"
      },
      "source": [
        "### We will start the module by setting up our Colab environment."
      ]
    },
    {
      "cell_type": "code",
      "metadata": {
        "id": "_g31gifhl3oU"
      },
      "source": [
        "%%capture\n",
        "#clean up the Colab environment\n",
        "%cd /content/sample_data\n",
        "!rm *.csv *.md *.json\n",
        "\n",
        "#change dirctory to /bin and retrive the BLAST executables\n",
        "%cd /bin\n",
        "!wget https://ftp.ncbi.nlm.nih.gov/blast/executables/LATEST/ncbi-blast-2.12.0+-x64-linux.tar.gz -P /bin/\n",
        "\n",
        "#unzip the file\n",
        "!tar zxvpf ncbi-blast-2.12.0+-x64-linux.tar.gz\n",
        "\n",
        "#add the blast executables to $PATH this path is specific to COLAB and will vary by operating system\n",
        "%env PATH=$PATH:/bin/ncbi-blast-2.12.0+/bin/:/usr/local/nvidia/bin:/usr/local/cuda/bin:/usr/local/sbin:/usr/local/bin:/usr/sbin:/usr/bin:/sbin:/bin:/tools/node/bin:/tools/google-cloud-sdk/bin:/opt/bin"
      ],
      "execution_count": 3,
      "outputs": []
    },
    {
      "cell_type": "code",
      "metadata": {
        "colab": {
          "base_uri": "https://localhost:8080/"
        },
        "id": "E2FmFG-iuJcU",
        "outputId": "1b57a69f-3ea0-480b-d3bc-6e108fd4f896"
      },
      "source": [
        "!git clone https://github.com/pjd-code/BLAST.git"
      ],
      "execution_count": 4,
      "outputs": [
        {
          "output_type": "stream",
          "name": "stdout",
          "text": [
            "Cloning into 'BLAST'...\n",
            "remote: Enumerating objects: 13, done.\u001b[K\n",
            "remote: Counting objects: 100% (13/13), done.\u001b[K\n",
            "remote: Compressing objects: 100% (12/12), done.\u001b[K\n",
            "remote: Total 13 (delta 3), reused 0 (delta 0), pack-reused 0\u001b[K\n",
            "Unpacking objects: 100% (13/13), done.\n"
          ]
        }
      ]
    },
    {
      "cell_type": "code",
      "metadata": {
        "id": "QD4E6jGAzJ80"
      },
      "source": [
        "#execue this block to test your setup\n",
        "!blastn -help"
      ],
      "execution_count": null,
      "outputs": []
    },
    {
      "cell_type": "markdown",
      "metadata": {
        "id": "1C0T6VO-_yFg"
      },
      "source": [
        "Each Hight Scoring Pair is associated with a “bitscore” that is based on the similarity of the subsequences as determined by a particular set of rules. Because in larger subject sets some good matches are likely to be found by chance, each HSP is also associated with an “E value,” representing the expected number of matches one might find by chance in a subject set of that size with that score or better. For example, an E value of 0.05 means that we can expect a match by chance in 1 in 20 similar searches, whereas an E value of 2.0 means we can expect 2 matches by chance for each similar search."
      ]
    },
    {
      "cell_type": "code",
      "metadata": {
        "id": "j3IrSF8kBJRQ"
      },
      "source": [
        "!blastn -db nt -query /content/BLAST/leptin_DNA.txt -remote -max_target_seqs 5"
      ],
      "execution_count": null,
      "outputs": []
    },
    {
      "cell_type": "code",
      "metadata": {
        "id": "iIr6C8zrx6c7"
      },
      "source": [
        "!blastp -db nr -query /bin/BLAST/leptin_protein.txt -remote -max_target_seqs 5"
      ],
      "execution_count": null,
      "outputs": []
    }
  ]
}